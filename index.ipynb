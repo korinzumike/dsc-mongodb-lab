{
 "cells": [
  {
   "cell_type": "markdown",
   "metadata": {},
   "source": [
    "# MongoDB - Lab\n",
    "\n",
    "## Introduction\n",
    "\n",
    "In this lesson, we'll get some hands-on experience with MongoDB!\n",
    "\n",
    "## Objectives\n",
    "You will be able to: \n",
    "\n",
    "- Create a MongoDB database   \n",
    "- Insert data into a MongoDB database   \n",
    "- Read data from a MongoDB database   \n",
    "- Update data in a MongoDB database   \n",
    "\n",
    "## Getting Started\n",
    "\n",
    "To begin this lab, make sure that you start up the mongoDB server in your terminal first! **You must do this lab locally on your computer, not in Learn.**\n",
    "\n",
    "\n",
    "## Connecting to the MongoDB Database\n",
    "\n",
    "In the cell below, import the appropriate library and connect to the mongoDB server. Create a new database called `'lab_db'`."
   ]
  },
  {
   "cell_type": "code",
   "execution_count": 4,
   "metadata": {},
   "outputs": [
    {
     "name": "stdout",
     "output_type": "stream",
     "text": [
      "['admin', 'config', 'local']\n"
     ]
    }
   ],
   "source": [
    "import pymongo\n",
    "\n",
    "myclient = pymongo.MongoClient(\"mongodb://127.0.0.1:27017/\")\n",
    "lab_db = myclient['example_database']\n",
    "\n",
    "print(myclient.list_database_names())"
   ]
  },
  {
   "cell_type": "markdown",
   "metadata": {},
   "source": [
    "## Creating a Collection\n",
    "\n",
    "Now, create a collection called `'lab_collection'` inside `'lab_db'`."
   ]
  },
  {
   "cell_type": "code",
   "execution_count": 5,
   "metadata": {},
   "outputs": [],
   "source": [
    "labcollection = lab_db['lab_collection']"
   ]
  },
  {
   "cell_type": "markdown",
   "metadata": {},
   "source": [
    "## Adding Some Data\n",
    "\n",
    "Now, we're going to add some example records into our database. In the cells below, create dictionary representations of the following customer records:\n",
    "\n",
    "\n",
    "|     Name     |            Email           |  Mailing_Address  | Balance |                         Notes                         |\n",
    "|:------------:|:--------------------------:|:-----------------:|:-------:|:-----------------------------------------------------:|\n",
    "|  John Smith  |    j.smith@thesmiths.com   | 123 mulberry lane |   0.0   |    Called technical support, issue not yet resolved   |\n",
    "|  Jane Smith  |  jane_smith@thesmiths.com  |         Null          |  25.00  |                   Null                                    |\n",
    "|  Adam Enbar  | adam@theflatironschool.com |    11 Broadway    |  14.99  |           Set up on recurring billing cycle           |\n",
    "| Avi Flombaum |  avi@theflatironschool.com |    11 Broadway    |   0.0   |                   Null                                    |\n",
    "|   Steven S.  |     steven.s@gmail.net     |         Null          |  -20.23 | Refunded for overpayment due to price match guarantee |\n",
    "\n",
    "\n",
    "Your first challenge is to take all of the data in the table above and create the corresponding documents and add then to our mongo database. Note that fields that contain 'Null' should not be included in the document (recall that since mongo is schema-less, each document can be different). \n",
    "\n",
    "Create the documents from the table listed above, and then use `insert_many()` to insert them into the collection."
   ]
  },
  {
   "cell_type": "code",
   "execution_count": 10,
   "metadata": {},
   "outputs": [
    {
     "name": "stdout",
     "output_type": "stream",
     "text": [
      "['admin', 'config', 'local']\n",
      "\n",
      "['admin', 'config', 'local']\n",
      "\n",
      "[{'Name': 'John Smith', 'Email': 'j.smith@thesmiths.com', 'Mailing_Address': '123 mulberry lane', 'Balance': 0.0, 'Notes': 'Called technical support, issue not yet resolved'}, {'Name': 'Jane Smith', 'Email': 'jane_smith@thesmiths.com', 'Balance': 25.0}, {'Name': 'Adam Enbar', 'Email': 'adam@theflatironschool.com', 'Mailing_Address': '11 Broadway', 'Balance': 14.99, 'Notes': 'Set up on recurring billing cycle'}, {'Name': 'Avi Flombaum', 'Email': 'avi@theflatironschool.com', 'Mailing_Address': '11 Broadway', 'Balance': 0.0}, {'Name': 'Steven S.', 'Email': 'steven.s@gmail.net', 'Balance': -20.23, 'Notes': 'Refunded for overpayment due to price match guarantee'}]\n",
      "\n"
     ]
    },
    {
     "data": {
      "text/plain": [
       "<pymongo.results.InsertManyResult at 0x1cb5c6e04c8>"
      ]
     },
     "execution_count": 10,
     "metadata": {},
     "output_type": "execute_result"
    }
   ],
   "source": [
    "import pymongo\n",
    "\n",
    "def list_of_customers():\n",
    "    customer_1 = {}\n",
    "    customer_2 = {}\n",
    "    customer_3 = {}\n",
    "    customer_4 = {}\n",
    "    customer_5 = {}\n",
    "    customer_1['Name'] = 'John Smith'\n",
    "    customer_2['Name'] = 'Jane Smith'\n",
    "    customer_3['Name'] = 'Adam Enbar'\n",
    "    customer_4['Name'] = 'Avi Flombaum'\n",
    "    customer_5['Name'] = 'Steven S.'\n",
    "    customer_1['Email'] = 'j.smith@thesmiths.com'\n",
    "    customer_2['Email'] = 'jane_smith@thesmiths.com'\n",
    "    customer_3['Email'] = 'adam@theflatironschool.com'\n",
    "    customer_4['Email'] = 'avi@theflatironschool.com'\n",
    "    customer_5['Email'] = 'steven.s@gmail.net'\n",
    "    customer_1['Mailing_Address'] = '123 mulberry lane'\n",
    "    customer_3['Mailing_Address'] = '11 Broadway'\n",
    "    customer_4['Mailing_Address'] = '11 Broadway'\n",
    "    customer_1['Balance'] = 0.0\n",
    "    customer_2['Balance'] = 25.00\n",
    "    customer_3['Balance'] = 14.99\n",
    "    customer_4['Balance'] = 0.0\n",
    "    customer_5['Balance'] = -20.23\n",
    "    customer_1['Notes'] = \"Called technical support, issue not yet resolved\"\n",
    "    customer_3['Notes'] = \"Set up on recurring billing cycle\"\n",
    "    customer_5['Notes'] = \"Refunded for overpayment due to price match guarantee\"\n",
    "    return [customer_1, customer_2, customer_3, customer_4, customer_5]\n",
    "\n",
    "myclient = pymongo.MongoClient(\"mongodb://127.0.0.1:27017/\")\n",
    "lab_db = myclient['example_database']\n",
    "\n",
    "print(myclient.list_database_names())\n",
    "print()\n",
    "\n",
    "labcollection = lab_db['lab_collection']\n",
    "\n",
    "print(myclient.list_database_names())\n",
    "print()\n",
    "\n",
    "print(list_of_customers())\n",
    "print()\n",
    "\n",
    "results_2 = labcollection.insert_many(list_of_customers())        \n",
    "results_2\n",
    "\n",
    "# all_records = None\n",
    "\n",
    "# insertion_results = None"
   ]
  },
  {
   "cell_type": "markdown",
   "metadata": {},
   "source": [
    "Now, access the appropriate attribute from the results object returned from the insertion to see the unique IDs for each record inserted, so that we can confirm each were inserted correctly. "
   ]
  },
  {
   "cell_type": "code",
   "execution_count": 11,
   "metadata": {},
   "outputs": [
    {
     "data": {
      "text/plain": [
       "[ObjectId('5f4fe1e435d326bb165f44f5'),\n",
       " ObjectId('5f4fe1e435d326bb165f44f6'),\n",
       " ObjectId('5f4fe1e435d326bb165f44f7'),\n",
       " ObjectId('5f4fe1e435d326bb165f44f8'),\n",
       " ObjectId('5f4fe1e435d326bb165f44f9')]"
      ]
     },
     "execution_count": 11,
     "metadata": {},
     "output_type": "execute_result"
    }
   ],
   "source": [
    "results_2.inserted_ids"
   ]
  },
  {
   "cell_type": "markdown",
   "metadata": {},
   "source": [
    "## Querying and Filtering\n",
    "\n",
    "In the cell below, return the name and email address for every customer record. Then, print every item from the query to show that it worked correctly. "
   ]
  },
  {
   "cell_type": "code",
   "execution_count": 13,
   "metadata": {},
   "outputs": [
    {
     "name": "stdout",
     "output_type": "stream",
     "text": [
      "{'_id': ObjectId('5f4fe1e435d326bb165f44f5'), 'Name': 'John Smith', 'Email': 'j.smith@thesmiths.com'}\n",
      "{'_id': ObjectId('5f4fe1e435d326bb165f44f6'), 'Name': 'Jane Smith', 'Email': 'jane_smith@thesmiths.com'}\n",
      "{'_id': ObjectId('5f4fe1e435d326bb165f44f7'), 'Name': 'Adam Enbar', 'Email': 'adam@theflatironschool.com'}\n",
      "{'_id': ObjectId('5f4fe1e435d326bb165f44f8'), 'Name': 'Avi Flombaum', 'Email': 'avi@theflatironschool.com'}\n",
      "{'_id': ObjectId('5f4fe1e435d326bb165f44f9'), 'Name': 'Steven S.', 'Email': 'steven.s@gmail.net'}\n"
     ]
    }
   ],
   "source": [
    "query_1 = labcollection.find({}, {'_id': 1, 'Name': 1, 'Email': 1})\n",
    "for item in query_1:\n",
    "    print(item)\n"
   ]
  },
  {
   "cell_type": "markdown",
   "metadata": {},
   "source": [
    "Great! Now, let's write a query that gets an individual record based on a stored key-value pair a document contains. \n",
    "\n",
    "In the cell below, write a query to get the record for `'John Smith'` by using his name. Then, print the results of the query to demonstrate that it worked correctly.  "
   ]
  },
  {
   "cell_type": "code",
   "execution_count": 16,
   "metadata": {},
   "outputs": [
    {
     "name": "stdout",
     "output_type": "stream",
     "text": [
      "{'_id': ObjectId('5f4fe1e435d326bb165f44f5'), 'Name': 'John Smith', 'Email': 'j.smith@thesmiths.com', 'Mailing_Address': '123 mulberry lane', 'Balance': 0.0, 'Notes': 'Called technical support, issue not yet resolved'}\n"
     ]
    }
   ],
   "source": [
    "query_2 = labcollection.find({'Name': 'John Smith'})\n",
    "for item in query_2:\n",
    "    print(item)\n"
   ]
  },
  {
   "cell_type": "markdown",
   "metadata": {},
   "source": [
    "Great! Now, write a query to get the names, email addresses, and balances for customers that have a balance greater than 0. Use a modifier to do this. \n",
    "\n",
    "**_HINT_**: In the query below, you'll be passing in two separate dictionaries. The first one defines the logic of the query, while the second tells which fields we want returned. "
   ]
  },
  {
   "cell_type": "code",
   "execution_count": 17,
   "metadata": {},
   "outputs": [
    {
     "name": "stdout",
     "output_type": "stream",
     "text": [
      "{'_id': ObjectId('5f4fe1e435d326bb165f44f6'), 'Name': 'Jane Smith', 'Email': 'jane_smith@thesmiths.com', 'Balance': 25.0}\n",
      "{'_id': ObjectId('5f4fe1e435d326bb165f44f7'), 'Name': 'Adam Enbar', 'Email': 'adam@theflatironschool.com', 'Balance': 14.99}\n"
     ]
    }
   ],
   "source": [
    "query_3 = labcollection.find({\"Balance\": {\"$gt\": 0}},\n",
    "                             {'Name': 1, 'Email': 1, 'Balance': 1})\n",
    "for item in query_3:\n",
    "    print(item)"
   ]
  },
  {
   "cell_type": "markdown",
   "metadata": {},
   "source": [
    "## Updating a Record\n",
    "\n",
    "Now, let's update some records. In the cell below. set the mailing address for `'John Smith'` to `'367 55th St., apt 2A'`."
   ]
  },
  {
   "cell_type": "code",
   "execution_count": 20,
   "metadata": {},
   "outputs": [
    {
     "data": {
      "text/plain": [
       "<pymongo.results.UpdateResult at 0x1cb5c492688>"
      ]
     },
     "execution_count": 20,
     "metadata": {},
     "output_type": "execute_result"
    }
   ],
   "source": [
    "record_to_update = {'Name' : 'John Smith'}\n",
    "update_1 = {'$set': {'Mailing_Address': '367 55th St., apt 2A'}}\n",
    "\n",
    "labcollection.update_one(record_to_update, update_1)\n",
    "\n"
   ]
  },
  {
   "cell_type": "markdown",
   "metadata": {},
   "source": [
    "Now, write a query to check that the update worked for this document in the cell below:  "
   ]
  },
  {
   "cell_type": "code",
   "execution_count": 21,
   "metadata": {},
   "outputs": [
    {
     "name": "stdout",
     "output_type": "stream",
     "text": [
      "{'_id': ObjectId('5f4fe1e435d326bb165f44f5'), 'Name': 'John Smith', 'Email': 'j.smith@thesmiths.com', 'Mailing_Address': '367 55th St., apt 2A', 'Balance': 0.0, 'Notes': 'Called technical support, issue not yet resolved'}\n"
     ]
    }
   ],
   "source": [
    "query_4 = labcollection.find(record_to_update)\n",
    "for item in query_4:\n",
    "    print(item)"
   ]
  },
  {
   "cell_type": "markdown",
   "metadata": {},
   "source": [
    "Now, let's assume that we want to add birthdays for each customer record. Consider the following table:\n",
    "\n",
    "|     Name     |  Birthday  |\n",
    "|:------------:|:----------:|\n",
    "|  John Smith  | 02/20/1986 |\n",
    "|  Jane Smith  | 07/07/1983 |\n",
    "|  Adam Enbar  | 12/02/1982 |\n",
    "| Avi Flombaum | 04/17/1983 |\n",
    "|   Steven S.  | 08/30/1991 |\n",
    "\n",
    "We want to add birthdays for each person, but we want to do so in a way where we don't have to do the same repetitive task over and over again. This seems like a good opportunity to write a function to handle some of the logic for us!\n",
    "\n",
    "In the cell below:\n",
    "\n",
    "* Store the names in the `names_list` variable as a list.\n",
    "* Store the birthdays in the `birthdays_list` variable as a list.\n",
    "* Write a function that takes in the two different lists, and updates each record by adding in the appropriate key-value pair containing that user's birthday.\n",
    "\n",
    "**_Hint:_** There are several ways that you could write this, depending on whether you want to use the `update_one()` method or the `update_many()` method. See if you can figure out both approaches!"
   ]
  },
  {
   "cell_type": "code",
   "execution_count": 24,
   "metadata": {},
   "outputs": [],
   "source": [
    "names_list = ['John Smith','Jane Smith','Adam Enbar','Avi Flombaum','Steven S.']\n",
    "birthdays_list = ['02/20/1986', '07/07/1983', '12/02/1982', '04/17/1983', '08/30/1991']\n",
    "\n",
    "def update_birthdays_one_at_a_time(names, birthdays):\n",
    "    for n_, b_ in zip(names, birthdays):\n",
    "        record_ , payload_, command_ = {}, {}, {}\n",
    "        record_[\"Name\"] = n_\n",
    "        payload_[\"Birthday\"] = b_\n",
    "        command_[\"$set\"] = payload_\n",
    "        labcollection.update_one(record_, command_)\n",
    "    return\n",
    "\n",
    "        \n",
    "update_birthdays_one_at_a_time(names_list, birthdays_list)\n"
   ]
  },
  {
   "cell_type": "markdown",
   "metadata": {},
   "source": [
    "Now, write a query to check your work and see that the birthdays were added correctly."
   ]
  },
  {
   "cell_type": "code",
   "execution_count": 25,
   "metadata": {},
   "outputs": [
    {
     "name": "stdout",
     "output_type": "stream",
     "text": [
      "{'_id': ObjectId('5f4fe1e435d326bb165f44f5'), 'Name': 'John Smith', 'Birthday': '02/20/1986'}\n",
      "{'_id': ObjectId('5f4fe1e435d326bb165f44f6'), 'Name': 'Jane Smith', 'Birthday': '07/07/1983'}\n",
      "{'_id': ObjectId('5f4fe1e435d326bb165f44f7'), 'Name': 'Adam Enbar', 'Birthday': '12/02/1982'}\n",
      "{'_id': ObjectId('5f4fe1e435d326bb165f44f8'), 'Name': 'Avi Flombaum', 'Birthday': '04/17/1983'}\n",
      "{'_id': ObjectId('5f4fe1e435d326bb165f44f9'), 'Name': 'Steven S.', 'Birthday': '08/30/1991'}\n"
     ]
    }
   ],
   "source": [
    "query_1 = labcollection.find({}, {'Name': 1, 'Birthday': 1})\n",
    "for item in query_1:\n",
    "    print(item)"
   ]
  },
  {
   "cell_type": "markdown",
   "metadata": {},
   "source": [
    "Great! It looks like the birthdays have been successfully added to every record correctly!\n",
    "\n",
    "## Summary\n",
    "\n",
    "In this lesson, we got some hands-on practice working with MongoDB!"
   ]
  },
  {
   "cell_type": "markdown",
   "metadata": {},
   "source": [
    "Hot diggety. I done did it.\n",
    "MLC 2020-09-02_1309_MDT"
   ]
  }
 ],
 "metadata": {
  "kernelspec": {
   "display_name": "Python 3",
   "language": "python",
   "name": "python3"
  },
  "language_info": {
   "codemirror_mode": {
    "name": "ipython",
    "version": 3
   },
   "file_extension": ".py",
   "mimetype": "text/x-python",
   "name": "python",
   "nbconvert_exporter": "python",
   "pygments_lexer": "ipython3",
   "version": "3.6.10"
  }
 },
 "nbformat": 4,
 "nbformat_minor": 2
}
